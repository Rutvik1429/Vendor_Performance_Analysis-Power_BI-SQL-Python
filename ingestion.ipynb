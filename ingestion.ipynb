{
 "cells": [
  {
   "cell_type": "code",
   "execution_count": 37,
   "id": "aa9769a4-5590-4c37-808d-4aa26aad1216",
   "metadata": {},
   "outputs": [],
   "source": [
    "import pandas as pd\n",
    "import os\n",
    "from sqlalchemy import create_engine\n",
    "import logging\n",
    "import time\n",
    "\n",
    "logging.basicConfig(\n",
    "    filename=\"logs/ingestion_db.log\",             \n",
    "    filemode=\"a\",                   \n",
    "    level=logging.DEBUG,             \n",
    "    format=\"%(asctime)s - %(levelname)s - %(message)s\"\n",
    ")\n",
    "\n",
    "engine = create_engine(\"sqlite:///inventory.db\")\n",
    "\n",
    "def ingest_db(df,table_name, engine):\n",
    "    '''this fuctions will ingest dataframe into database table'''\n",
    "    df.to_sql(table_name , con = engine, if_exists = \"replace\" , index = False ,chunksize=10000)\n",
    "    \n",
    "def Load_raw_data():\n",
    "    '''this function will load the csv as dataframe and ingest of db'''\n",
    "    start = time.time()\n",
    "    for file in os.listdir('data'):\n",
    "        if '.csv' in file:\n",
    "            df = pd.read_csv('data/'+file)\n",
    "            logging.info(f'ingesting {file} in db')\n",
    "            ingest_db(df , file[:-4],engine)\n",
    "    end = time.time()\n",
    "    total_time = (end - start)/60\n",
    "    logging.info(\"-----ingestion complete-----\")\n",
    "    logging.info(f'ingestion completed time Taken: {total_time} minutes')\n",
    "\n",
    "if __name__ == '__main__':\n",
    "    Load_raw_data()"
   ]
  },
  {
   "cell_type": "code",
   "execution_count": 33,
   "id": "37f72f4e-e976-4478-a175-c96c76e92367",
   "metadata": {},
   "outputs": [],
   "source": []
  },
  {
   "cell_type": "code",
   "execution_count": 35,
   "id": "469ade8e-69f9-4e8f-8b80-025a6eb4bc9e",
   "metadata": {},
   "outputs": [
    {
     "name": "stdout",
     "output_type": "stream",
     "text": [
      "(206529, 9)\n",
      "(224489, 9)\n",
      "(2372474, 16)\n",
      "(12261, 9)\n",
      "(12825363, 14)\n",
      "(5543, 10)\n"
     ]
    }
   ],
   "source": []
  },
  {
   "cell_type": "code",
   "execution_count": 34,
   "id": "082e9b85-2dda-481e-ba47-66093dc82bde",
   "metadata": {},
   "outputs": [],
   "source": []
  },
  {
   "cell_type": "code",
   "execution_count": null,
   "id": "59be8af7-22c8-4bf6-814b-a727027f4cb1",
   "metadata": {},
   "outputs": [],
   "source": []
  }
 ],
 "metadata": {
  "kernelspec": {
   "display_name": "Python 3 (ipykernel)",
   "language": "python",
   "name": "python3"
  },
  "language_info": {
   "codemirror_mode": {
    "name": "ipython",
    "version": 3
   },
   "file_extension": ".py",
   "mimetype": "text/x-python",
   "name": "python",
   "nbconvert_exporter": "python",
   "pygments_lexer": "ipython3",
   "version": "3.9.2"
  }
 },
 "nbformat": 4,
 "nbformat_minor": 5
}
